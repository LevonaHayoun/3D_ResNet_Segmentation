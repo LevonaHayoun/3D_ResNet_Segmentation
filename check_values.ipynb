{
  "nbformat": 4,
  "nbformat_minor": 0,
  "metadata": {
    "colab": {
      "provenance": [],
      "authorship_tag": "ABX9TyPxH6J+Zqq9oEK03R/vntQ/",
      "include_colab_link": true
    },
    "kernelspec": {
      "name": "python3",
      "display_name": "Python 3"
    },
    "language_info": {
      "name": "python"
    }
  },
  "cells": [
    {
      "cell_type": "markdown",
      "metadata": {
        "id": "view-in-github",
        "colab_type": "text"
      },
      "source": [
        "<a href=\"https://colab.research.google.com/github/LevonaHayoun/3d_Unet_Segmentation/blob/main/check_values.ipynb\" target=\"_parent\"><img src=\"https://colab.research.google.com/assets/colab-badge.svg\" alt=\"Open In Colab\"/></a>"
      ]
    },
    {
      "cell_type": "markdown",
      "source": [
        "#Checking the pixel values of the image/label"
      ],
      "metadata": {
        "id": "y9VQK5wgTRwy"
      }
    },
    {
      "cell_type": "code",
      "execution_count": null,
      "metadata": {
        "id": "hxkbgYGpe4WJ"
      },
      "outputs": [],
      "source": [
        "import os\n",
        "import nibabel as nib\n",
        "import numpy as np\n",
        "\n",
        "#Directory containing the NIfTI images/labels\n",
        "directory_path = r'C:\\Users\\D_Learning'\n",
        "\n",
        "# Iterate over all cases\n",
        "for filename in os.listdir(directory_path):\n",
        " if filename.endswith('.nii.gz'):\n",
        "     file_path = os.path.join(directory_path, filename)\n",
        "\n",
        "     nifti_img = nib.load(file_path)\n",
        "\n",
        "     image_data = nifti_img.get_fdata()\n",
        "\n",
        "     print(f\"Case: {filename}\")\n",
        "     print(\"Image shape:\", image_data.shape)\n",
        "\n",
        "     #Find all unique pixel values\n",
        "     unique_values = np.unique(image_data)\n",
        "     print(\"Unique pixel values:\")\n",
        "     for value in unique_values:\n",
        "         print(value, end=\" \")\n",
        "\n",
        "     print(\"\\n\" + \"-\"*40 + \"\\n\")\n",
        "\n",
        "\n"
      ]
    }
  ]
}
