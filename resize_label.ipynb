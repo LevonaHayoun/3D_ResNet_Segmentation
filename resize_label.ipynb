{
  "nbformat": 4,
  "nbformat_minor": 0,
  "metadata": {
    "colab": {
      "provenance": [],
      "authorship_tag": "ABX9TyPlj4IKbj5ucBF+/JJop24W",
      "include_colab_link": true
    },
    "kernelspec": {
      "name": "python3",
      "display_name": "Python 3"
    },
    "language_info": {
      "name": "python"
    }
  },
  "cells": [
    {
      "cell_type": "markdown",
      "metadata": {
        "id": "view-in-github",
        "colab_type": "text"
      },
      "source": [
        "<a href=\"https://colab.research.google.com/github/LevonaHayoun/3d_Unet_Segmentation/blob/main/resize_label.ipynb\" target=\"_parent\"><img src=\"https://colab.research.google.com/assets/colab-badge.svg\" alt=\"Open In Colab\"/></a>"
      ]
    },
    {
      "cell_type": "code",
      "execution_count": null,
      "metadata": {
        "id": "cfG77jSwdW55"
      },
      "outputs": [],
      "source": [
        "import os\n",
        "import nibabel as nib\n",
        "import numpy as np\n",
        "from scipy.ndimage import zoom\n",
        "\n",
        "def resize_nifti_label(input_file, output_file, new_shape):\n",
        "    nifti_img = nib.load(input_file)\n",
        "    img_data = nifti_img.get_fdata()\n",
        "\n",
        "    zoom_factors = [n / o for n, o in zip(new_shape, img_data.shape)]\n",
        "\n",
        "    #Resize the image using nearest neighbor interpolation\n",
        "    resized_data = zoom(img_data, zoom_factors, order=0)\n",
        "\n",
        "    #Ensure the pixel values are 0 and 255\n",
        "    resized_data = np.where(resized_data > 127.5, 255, 0).astype(np.uint8)\n",
        "\n",
        "    resized_nifti_img = nib.Nifti1Image(resized_data, nifti_img.affine, nifti_img.header)\n",
        "\n",
        "    nib.save(resized_nifti_img, output_file)\n",
        "    print(f\"Resized and saved: {output_file}\")\n",
        "\n",
        "def process_nifti_labels(input_dir, output_dir, new_shape):\n",
        "\n",
        "    # Iterate over all cases\n",
        "    for file_name in os.listdir(input_dir):\n",
        "        if file_name.endswith('.nii.gz'):\n",
        "            input_file = os.path.join(input_dir, file_name)\n",
        "            output_file = os.path.join(output_dir, file_name)\n",
        "\n",
        "            resize_nifti_label(input_file, output_file, new_shape)\n",
        "\n",
        "# Define as needed\n",
        "input_dir = r'C:\\Users\\D_Learning\\Desktop\\MISScnn\\Case for nifty\\please\\labelsnew'\n",
        "output_dir = r'C:\\Users\\D_Learning\\Desktop\\MISScnn\\Case for nifty\\please\\labelsnew\\resized'\n",
        "new_shape = (240,240,155)\n",
        "\n",
        "process_nifti_labels(input_dir, output_dir, new_shape)\n"
      ]
    }
  ]
}