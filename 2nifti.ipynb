{
  "nbformat": 4,
  "nbformat_minor": 0,
  "metadata": {
    "colab": {
      "provenance": [],
      "authorship_tag": "ABX9TyO4nz+xFLgaY6BL8EJwP7nU",
      "include_colab_link": true
    },
    "kernelspec": {
      "name": "python3",
      "display_name": "Python 3"
    },
    "language_info": {
      "name": "python"
    }
  },
  "cells": [
    {
      "cell_type": "markdown",
      "metadata": {
        "id": "view-in-github",
        "colab_type": "text"
      },
      "source": [
        "<a href=\"https://colab.research.google.com/github/LevonaHayoun/3d_Unet_Segmentation/blob/main/2nifti.ipynb\" target=\"_parent\"><img src=\"https://colab.research.google.com/assets/colab-badge.svg\" alt=\"Open In Colab\"/></a>"
      ]
    },
    {
      "cell_type": "markdown",
      "source": [
        "#Converting DICOM images to 3D NIFTI image"
      ],
      "metadata": {
        "id": "cfq-NrYrSWXr"
      }
    },
    {
      "cell_type": "code",
      "execution_count": null,
      "metadata": {
        "id": "qAWJNUsZdR81"
      },
      "outputs": [],
      "source": [
        "import os\n",
        "import nibabel as nib\n",
        "import pydicom\n",
        "import numpy as np\n",
        "\n",
        "\n",
        "def convert_dicom_to_nifti(dicom_dir, reference_affine):\n",
        "    \"\"\"Convert a series of DICOM images to a NIfTI image \"\"\"\n",
        "\n",
        "    dicom_files = [pydicom.dcmread(os.path.join(dicom_dir, f)) for f in os.listdir(dicom_dir) if f.endswith('.dcm')]\n",
        "    dicom_files.sort(key=lambda x: float(x.ImagePositionPatient[2]))  # Sort by slice location\n",
        "\n",
        "    pixel_data = np.stack([ds.pixel_array for ds in dicom_files], axis=-1)\n",
        "\n",
        "    nifti_img = nib.Nifti1Image(pixel_data, reference_affine)\n",
        "\n",
        "    return nifti_img\n",
        "\n",
        "\n",
        "# Paths to the main directories\n",
        "cases_dir = r'C:\\Users\\D_Learning\\CASE'\n",
        "\n",
        "# reference NIfTI image/\n",
        "reference_nifti_path = r'C:\\Users\\D_Learning\\ref_img.nii.gz'\n",
        "reference_nifti_img = nib.load(reference_nifti_path)\n",
        "reference_affine_img = reference_nifti_img.affine\n",
        "\n",
        "reference_nifti_path = r'C:\\Users\\D_Learning\\ref_lbl.nii.gz'\n",
        "reference_nifti_lbl = nib.load(reference_nifti_path)\n",
        "reference_affine_lbl = reference_nifti_lbl.affine\n",
        "\n",
        "# Process each case\n",
        "for case in os.listdir(cases_dir):\n",
        "    case_path = os.path.join(cases_dir, case)\n",
        "\n",
        "    # Ensure processing only directories named \"case_{number}\"\n",
        "    if os.path.isdir(case_path) and case.startswith('case_'):\n",
        "\n",
        "        images_dir = os.path.join(case_path,\n",
        "                                 'DICOM')\n",
        "        masks_dir = os.path.join(case_path,\n",
        "                                 'MASK')\n",
        "\n",
        "\n",
        "        img_nifti = convert_dicom_to_nifti(images_dir, reference_affine_img)\n",
        "        img_output_path = os.path.join(case_path, f'img_{case}.nii.gz')\n",
        "        nib.save(img_nifti, img_output_path)\n",
        "        print(f'Image saved to {img_output_path}')\n",
        "\n",
        "        # Convert DICOM masks to NIfTI\n",
        "        lbl_nifti = convert_dicom_to_nifti(masks_dir, reference_affine_lbl)\n",
        "        lbl_output_path = os.path.join(case_path, f'lbl_{case}.nii.gz')\n",
        "        nib.save(lbl_nifti, lbl_output_path)\n",
        "        print(f'Label saved to {lbl_output_path}')\n"
      ]
    }
  ]
}
