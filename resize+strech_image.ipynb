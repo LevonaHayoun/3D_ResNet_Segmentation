{
  "nbformat": 4,
  "nbformat_minor": 0,
  "metadata": {
    "colab": {
      "provenance": [],
      "authorship_tag": "ABX9TyM4cTuVyDx7n/AoojXz2TkL",
      "include_colab_link": true
    },
    "kernelspec": {
      "name": "python3",
      "display_name": "Python 3"
    },
    "language_info": {
      "name": "python"
    }
  },
  "cells": [
    {
      "cell_type": "markdown",
      "metadata": {
        "id": "view-in-github",
        "colab_type": "text"
      },
      "source": [
        "<a href=\"https://colab.research.google.com/github/LevonaHayoun/3d_Unet_Segmentation/blob/main/resize%2Bstrech_image.ipynb\" target=\"_parent\"><img src=\"https://colab.research.google.com/assets/colab-badge.svg\" alt=\"Open In Colab\"/></a>"
      ]
    },
    {
      "cell_type": "markdown",
      "source": [
        "#Resize images"
      ],
      "metadata": {
        "id": "Kq24uUqQSLbo"
      }
    },
    {
      "cell_type": "code",
      "execution_count": null,
      "metadata": {
        "id": "-39sBTGadf8Z"
      },
      "outputs": [],
      "source": [
        "import nibabel as nib\n",
        "import numpy as np\n",
        "import os\n",
        "from nibabel.processing import resample_to_output\n",
        "\n",
        "def resize_nifti_image(input_image_path, output_image_path, target_shape):\n",
        "\n",
        "    img = nib.load(input_image_path)\n",
        "\n",
        "    original_shape = img.shape\n",
        "    original_zooms = img.header.get_zooms()\n",
        "\n",
        "    # Calculate the new voxel sizes\n",
        "    new_zooms = (\n",
        "        original_shape[0] * original_zooms[0] / target_shape[0],\n",
        "        original_shape[1] * original_zooms[1] / target_shape[1],\n",
        "        original_shape[2] * original_zooms[2] / target_shape[2],\n",
        "    )\n",
        "\n",
        "    resampled_img = resample_to_output(img, voxel_sizes=new_zooms)\n",
        "\n",
        "    nib.save(resampled_img, output_image_path)\n",
        "\n",
        "def process_folder(input_folder, output_folder, target_shape):\n",
        "\n",
        "    # Iterate over all cases\n",
        "    for filename in os.listdir(input_folder):\n",
        "        if filename.endswith('.nii.gz'):\n",
        "            input_image_path = os.path.join(input_folder, filename)\n",
        "            output_image_path = os.path.join(output_folder, filename)\n",
        "\n",
        "            # Resize the NIFTI image\n",
        "            resize_nifti_image(input_image_path, output_image_path, target_shape)\n",
        "            print(f'Resampled {filename} and saved to {output_image_path}')\n",
        "\n",
        "# Define as needed\n",
        "input_folder = r'C:\\Users\\D_Learning\\Desktop\\MISScnn\\Case for nifty\\please\\imagesnew'\n",
        "output_folder = r'C:\\Users\\D_Learning\\Desktop\\MISScnn\\Case for nifty\\please\\imagesnew\\resized'\n",
        "target_shape = (239, 239, 154)\n",
        "\n",
        "process_folder(input_folder, output_folder, target_shape)\n"
      ]
    },
    {
      "cell_type": "markdown",
      "source": [
        "#Strech images"
      ],
      "metadata": {
        "id": "TkeDUcXtSPJw"
      }
    },
    {
      "cell_type": "code",
      "source": [
        "import os\n",
        "import nibabel as nib\n",
        "import pydicom\n",
        "\n",
        "def dicom_grayscale_normalization(img3d, w_center, w_width):\n",
        "    mask_minimum = img3d > (w_center - w_width / 2)\n",
        "    mask_max = img3d < (w_center + w_width / 2)\n",
        "    max_values = (~mask_max) * 3500\n",
        "\n",
        "    nimg = w_width\n",
        "    nimg -= w_center + w_width / 2 - img3d\n",
        "    nimg *= 3500 / w_width\n",
        "\n",
        "    nimg = nimg * mask_minimum\n",
        "    nimg = nimg * mask_max\n",
        "    nimg = nimg + max_values\n",
        "\n",
        "    return nimg\n",
        "\n",
        "def get_windowing_params(dicom_folder):\n",
        "    slices = []\n",
        "    for dicom_file in os.listdir(dicom_folder):\n",
        "        if dicom_file.endswith('.dcm'):\n",
        "            dicom_path = os.path.join(dicom_folder, dicom_file)\n",
        "            dicom_data = pydicom.dcmread(dicom_path)\n",
        "            slices.append(dicom_data)\n",
        "\n",
        "    w_center = 0\n",
        "    w_width = 0\n",
        "    for i in slices:\n",
        "        if i[0x0028, 0x1050].value != 128:\n",
        "            w_center = i[0x0028, 0x1050].value\n",
        "            break\n",
        "\n",
        "    for i in slices:\n",
        "        if i[0x0028, 0x1051].value != 255:\n",
        "            w_width = i[0x0028, 0x1051].value\n",
        "            break\n",
        "\n",
        "    return w_center, w_width\n",
        "\n",
        "def process_nifti_files(input_dir, output_dir, dicom_dir):\n",
        "\n",
        "    # Iterate over all cases\n",
        "    for file_name in os.listdir(input_dir):\n",
        "        if file_name.endswith('.nii.gz'):\n",
        "            nifti_file = os.path.join(input_dir, file_name)\n",
        "            nifti_img = nib.load(nifti_file)\n",
        "            img3d = nifti_img.get_fdata()\n",
        "\n",
        "            case_number = file_name.split('_')[-1].split('.')[0]\n",
        "\n",
        "            # Find the corresponding DICOM folder\n",
        "            dicom_folder = os.path.join(dicom_dir, f\"case_{case_number}\", 'DICOM')\n",
        "            if os.path.exists(dicom_folder):\n",
        "                w_center, w_width = get_windowing_params(dicom_folder)\n",
        "\n",
        "                # Stretch the intensity values\n",
        "                stretched_img = dicom_grayscale_normalization(img3d, w_center, w_width)\n",
        "\n",
        "                output_file = os.path.join(output_dir, file_name)\n",
        "                stretched_nifti_img = nib.Nifti1Image(stretched_img, nifti_img.affine, nifti_img.header)\n",
        "                nib.save(stretched_nifti_img, output_file)\n",
        "                print(f\"Processed and saved: {output_file}\")\n",
        "            else:\n",
        "                print(f\"No corresponding DICOM folder found for {file_name}\")\n",
        "\n",
        "# Define as needed\n",
        "input_dir = r'C:\\Users\\D_Learning\\Desktop\\MISScnn\\Case for nifty\\please\\imagesnew\\resized'\n",
        "output_dir = r'C:\\Users\\D_Learning\\Desktop\\MISScnn\\Case for nifty\\please\\imagesnew\\stretched'\n",
        "dicom_dir = r'C:\\Users\\D_Learning\\Desktop\\MISScnn\\Case for nifty'\n",
        "\n",
        "process_nifti_files(input_dir, output_dir, dicom_dir)"
      ],
      "metadata": {
        "id": "5-PmN4fsd4VR"
      },
      "execution_count": null,
      "outputs": []
    }
  ]
}